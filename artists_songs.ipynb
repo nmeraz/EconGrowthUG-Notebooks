{
 "cells": [
  {
   "cell_type": "code",
   "execution_count": 3,
   "id": "9ecfba7d-a6cc-48bb-b6b9-7ea6ee39795f",
   "metadata": {},
   "outputs": [
    {
     "ename": "SyntaxError",
     "evalue": "invalid character '“' (U+201C) (3284457198.py, line 1)",
     "output_type": "error",
     "traceback": [
      "\u001b[0;36m  Input \u001b[0;32mIn [3]\u001b[0;36m\u001b[0m\n\u001b[0;31m    favorite_artists = [ “Juanes” , “Kali Uchis” , “Mon Laferte” , “Frank Ocean” , “Residente” , “Bad Bunny”, “Steve Lacy” , “Doja Kat” ,  “the Marias” , “Plan B” ]\u001b[0m\n\u001b[0m                         ^\u001b[0m\n\u001b[0;31mSyntaxError\u001b[0m\u001b[0;31m:\u001b[0m invalid character '“' (U+201C)\n"
     ]
    }
   ],
   "source": [
    "favorite_artists = [ “Juanes” , “Kali Uchis” , “Mon Laferte” , “Frank Ocean” , “Residente” , “Bad Bunny”, “Steve Lacy” , “Doja Kat” ,  “the Marias” , “Plan B” ]\n",
    "\n",
    "favorite_songs = [ “El Ratico” , “Amarrame” , “Bonita” , “ Do I Wanna Know” , “Eres” , “Llama” , “Fuentes de Ortiz” , “Chilango Blues” , “Quisiera Saber” , “Que Pasara Mañana” ]\n",
    "\n",
    "artists_best_songs = { “Juanes” : “La Camisa Negra” ,\n",
    "                      “Kali Uchis” : “Telepatia” ,\n",
    "                      “Mon Laferte” : “Tu tanta Falta de Querer” ,\n",
    "                      “Frank Ocean” : “Pyramids” ,\n",
    "                      “Residente : “Atrevete” ,\n",
    "                      “Bad Bunny” : “Me Porto Bonito” ,\n",
    "                      “Steve Lacy” : “Bad Habit” ,\n",
    "                      “Doja Kat” : “Streets” ,\n",
    "                      “The Marias” : “Cariño” ,\n",
    "                      “Plan B” : “Candy” } \n",
    "\n",
    "\n",
    "favorite_song_artist = { "
   ]
  },
  {
   "cell_type": "code",
   "execution_count": null,
   "id": "a0c27487-3df1-409c-8851-9961fad60d18",
   "metadata": {},
   "outputs": [],
   "source": []
  }
 ],
 "metadata": {
  "kernelspec": {
   "display_name": "Python 3 (ipykernel)",
   "language": "python",
   "name": "python3"
  },
  "language_info": {
   "codemirror_mode": {
    "name": "ipython",
    "version": 3
   },
   "file_extension": ".py",
   "mimetype": "text/x-python",
   "name": "python",
   "nbconvert_exporter": "python",
   "pygments_lexer": "ipython3",
   "version": "3.9.13"
  }
 },
 "nbformat": 4,
 "nbformat_minor": 5
}
