{
 "cells": [
  {
   "cell_type": "markdown",
   "id": "53b3bcfd-9813-42fb-88a7-b50288914788",
   "metadata": {
    "slideshow": {
     "slide_type": "slide"
    },
    "tags": [],
    "user_expressions": []
   },
   "source": [
    "# <center>Introduction to <img src=\"https://www.python.org/static/community_logos/python-logo-inkscape.svg\" alt=\"Python\" width=300/> and <img src=\"https://ipython.org/_static/IPy_header.png\" alt=\"IPython\" width=300/> using <img src=\"https://raw.githubusercontent.com/adebar/awesome-jupyter/master/logo.png\" alt=\"Jupyter\" width=300/></center>"
   ]
  },
  {
   "cell_type": "markdown",
   "id": "d92b3006-3639-48e2-93a1-2f7eceb45927",
   "metadata": {
    "user_expressions": []
   },
   "source": [
    "# Import Modules and set Paths"
   ]
  },
  {
   "cell_type": "code",
   "execution_count": 3,
   "id": "ba266fa2-ae31-4a4c-9718-4e9ecbe52e2d",
   "metadata": {},
   "outputs": [],
   "source": [
    "# Plotting\n",
    "import matplotlib as mpl\n",
    "import matplotlib.pyplot as plt\n",
    "%matplotlib widget\n",
    "\n",
    "# OS\n",
    "import os\n",
    "\n",
    "# Math\n",
    "import numpy as np\n",
    "\n",
    "# Paths\n",
    "path = './data/'\n",
    "pathout = './data/'\n",
    "pathgraphs = './graphs/'\n",
    "\n",
    "for p in [path, pathout, pathgraphs]:\n",
    "    if os.path.exists(p)==False:\n",
    "        os.mkdir(p)"
   ]
  },
  {
   "cell_type": "markdown",
   "id": "7e069b15-d310-4a6f-909f-dc37469f76b7",
   "metadata": {
    "slideshow": {
     "slide_type": "slide"
    },
    "tags": [],
    "user_expressions": []
   },
   "source": [
    "Notebook written by [Ömer Özak](http://omerozak.com) for his students in Economics at [Southern Methodist University](http://www.smu.edu). Feel free to use, distribute, or contribute."
   ]
  },
  {
   "cell_type": "markdown",
   "id": "45b16c47-b621-4de7-bf4d-25e55e8c3509",
   "metadata": {
    "slideshow": {
     "slide_type": "-"
    },
    "tags": [],
    "user_expressions": []
   },
   "source": [
    "[<center><img src=\"https://github.com/measuring-culture/Expanding-Measurement-Culture-Facebook-JRSI/blob/main/pics/SMUlogowWordmarkRB.jpg?raw=true\" width=\"250\"></center>](http://omerozak.com)"
   ]
  }
 ],
 "metadata": {
  "kernelspec": {
   "display_name": "Python 3 (ipykernel)",
   "language": "python",
   "name": "python3"
  },
  "language_info": {
   "codemirror_mode": {
    "name": "ipython",
    "version": 3
   },
   "file_extension": ".py",
   "mimetype": "text/x-python",
   "name": "python",
   "nbconvert_exporter": "python",
   "pygments_lexer": "ipython3",
   "version": "3.9.13"
  },
  "widgets": {
   "application/vnd.jupyter.widget-state+json": {
    "state": {},
    "version_major": 2,
    "version_minor": 0
   }
  }
 },
 "nbformat": 4,
 "nbformat_minor": 5
}
