{
 "cells": [
  {
   "cell_type": "markdown",
   "id": "53b3bcfd-9813-42fb-88a7-b50288914788",
   "metadata": {
    "slideshow": {
     "slide_type": "slide"
    },
    "tags": [],
    "user_expressions": []
   },
   "source": [
    "# <center>Introduction to <img src=\"https://www.python.org/static/community_logos/python-logo-inkscape.svg\" alt=\"Python\" width=300/> and <img src=\"https://ipython.org/_static/IPy_header.png\" alt=\"IPython\" width=300/> using <img src=\"https://raw.githubusercontent.com/adebar/awesome-jupyter/master/logo.png\" alt=\"Jupyter\" width=300/></center>"
   ]
  },
  {
   "cell_type": "markdown",
   "id": "7e02398d-0f57-4539-b4d7-b6d4538245c5",
   "metadata": {
    "slideshow": {
     "slide_type": "slide"
    },
    "tags": [],
    "user_expressions": []
   },
   "source": [
    "# Functions"
   ]
  },
  {
   "cell_type": "markdown",
   "id": "5f246534-a48e-4150-851e-f0da90d26b20",
   "metadata": {
    "slideshow": {
     "slide_type": "fragment"
    },
    "user_expressions": []
   },
   "source": [
    "Many times we need to perform computations or things Python does not know how to do natively. "
   ]
  },
  {
   "cell_type": "markdown",
   "id": "bf89e80a-f017-41ba-8805-a30e66903c04",
   "metadata": {
    "slideshow": {
     "slide_type": "fragment"
    },
    "user_expressions": []
   },
   "source": [
    "Other times, we want the same piece of code to work with other inputs (data, values, etc.)"
   ]
  },
  {
   "cell_type": "markdown",
   "id": "c5751808-07e3-4f61-9899-bc079f452d09",
   "metadata": {
    "slideshow": {
     "slide_type": "fragment"
    },
    "user_expressions": []
   },
   "source": [
    "What can we do?"
   ]
  },
  {
   "cell_type": "markdown",
   "id": "63e987c7-ffd2-4d2d-bd8f-0de396455ec6",
   "metadata": {
    "slideshow": {
     "slide_type": "subslide"
    },
    "tags": [],
    "user_expressions": []
   },
   "source": [
    "### Solution: Write a function"
   ]
  },
  {
   "cell_type": "markdown",
   "id": "fe26dda6-5b49-44fd-a615-6b6b34336ae2",
   "metadata": {
    "slideshow": {
     "slide_type": "fragment"
    },
    "user_expressions": []
   },
   "source": [
    "There are two ways of defining functions in Python:"
   ]
  },
  {
   "cell_type": "markdown",
   "id": "bd48bd9d-b3d7-40f6-aba3-1236b0769dc8",
   "metadata": {
    "slideshow": {
     "slide_type": "fragment"
    },
    "tags": [],
    "user_expressions": []
   },
   "source": [
    "1. Using *anonymous functions* via the `lambda` notation:\n",
    "```python\n",
    "my_function = lambda x: some_computations_based_on_x\n",
    "```  "
   ]
  },
  {
   "cell_type": "markdown",
   "id": "f3e9ba76-553d-457f-adb6-bc29ef05219a",
   "metadata": {
    "slideshow": {
     "slide_type": "fragment"
    },
    "tags": [],
    "user_expressions": []
   },
   "source": [
    "* `lambda` notation is useful to create functions on the go, especially when passing a function to others. We'll see examples and use it quite a bit later when we go into data analyses."
   ]
  },
  {
   "cell_type": "markdown",
   "id": "7e996441-0f4f-4514-850a-fbf4114689eb",
   "metadata": {
    "slideshow": {
     "slide_type": "fragment"
    },
    "tags": [],
    "user_expressions": []
   },
   "source": [
    "* A `lambda` function can take any number of arguments, but can only have one expression, i.e., you cannot perform complex computations."
   ]
  },
  {
   "cell_type": "markdown",
   "id": "61c3fa89-f5a8-4118-9a10-97dbc21eb50d",
   "metadata": {
    "slideshow": {
     "slide_type": "subslide"
    },
    "user_expressions": []
   },
   "source": [
    "2. Using the `def` statement:\n",
    "```python\n",
    "def my_function(x, y, z=Z):\n",
    "    '''\n",
    "    Explanation of what the function does\n",
    "    What are the inputs:\n",
    "    x: variable to be passed\n",
    "    y: variable to be passed\n",
    "    z: variable to be passed, Z is the default value\n",
    "    '''\n",
    "    perform_computations\n",
    "    return some_value_or_computation\n",
    "```"
   ]
  },
  {
   "cell_type": "markdown",
   "id": "12f2d753-cb1e-4077-b7de-d60a6e2f043d",
   "metadata": {
    "slideshow": {
     "slide_type": "subslide"
    },
    "tags": [],
    "user_expressions": []
   },
   "source": [
    "* Functions defined with the `def` statement can take any number of arguments, assign default values to them, and can have as many expressions as needed."
   ]
  },
  {
   "cell_type": "markdown",
   "id": "bd57eab5-bb0a-404f-8ec1-1e6792ee6161",
   "metadata": {
    "slideshow": {
     "slide_type": "fragment"
    },
    "tags": [],
    "user_expressions": []
   },
   "source": [
    "<div class=\"alert alert-block alert-info\">\n",
    "    <b>Note:</b> There is special horizontal spacing below the line that starts with <code>def</code> and all lines below it are aligned in the <code>def</code> statement. This is similar to the other statements we have seen so far.\n",
    "</div>"
   ]
  },
  {
   "cell_type": "markdown",
   "id": "c18dca89-faa3-4786-a33d-9fe66f21f969",
   "metadata": {
    "slideshow": {
     "slide_type": "subslide"
    }
   },
   "source": [
    "# Example"
   ]
  },
  {
   "cell_type": "markdown",
   "id": "9b64ed97-2227-4971-a38d-1f78d24199e1",
   "metadata": {
    "slideshow": {
     "slide_type": "fragment"
    },
    "tags": [],
    "user_expressions": []
   },
   "source": [
    "Let's create a function that computes the square of a number. Let's do it first using an anonymous function."
   ]
  },
  {
   "cell_type": "code",
   "execution_count": 1,
   "id": "170cabfa-2582-4fee-be4a-11809b1f5ae1",
   "metadata": {
    "slideshow": {
     "slide_type": "fragment"
    }
   },
   "outputs": [],
   "source": [
    "my_square = lambda x: x**2"
   ]
  },
  {
   "cell_type": "code",
   "execution_count": 2,
   "id": "f6659361-b1e3-440f-a147-2975f363a187",
   "metadata": {
    "slideshow": {
     "slide_type": "fragment"
    }
   },
   "outputs": [
    {
     "data": {
      "text/plain": [
       "16"
      ]
     },
     "execution_count": 2,
     "metadata": {},
     "output_type": "execute_result"
    }
   ],
   "source": [
    "my_square(4)"
   ]
  },
  {
   "cell_type": "code",
   "execution_count": 3,
   "id": "03d9ac2d-0091-492a-ae9c-059bd7439db6",
   "metadata": {
    "slideshow": {
     "slide_type": "fragment"
    }
   },
   "outputs": [
    {
     "data": {
      "text/plain": [
       "81"
      ]
     },
     "execution_count": 3,
     "metadata": {},
     "output_type": "execute_result"
    }
   ],
   "source": [
    "my_square(9)"
   ]
  },
  {
   "cell_type": "markdown",
   "id": "1deef93d-18b1-42e3-ad65-0535125e0cf7",
   "metadata": {
    "slideshow": {
     "slide_type": "subslide"
    },
    "tags": [],
    "user_expressions": []
   },
   "source": [
    "Now, let's create the same function using the `def` statement, which we will call create/write a function as opposed to an anonymous function."
   ]
  },
  {
   "cell_type": "code",
   "execution_count": 4,
   "id": "30cf0a1d-7507-4089-8842-d16468794f4e",
   "metadata": {
    "slideshow": {
     "slide_type": "fragment"
    }
   },
   "outputs": [],
   "source": [
    "def my_square_fn(x):\n",
    "    '''\n",
    "    This function take an input x and return x^2.\n",
    "    Parameters:\n",
    "    -----------\n",
    "    x: float, integer or any other number\n",
    "    \n",
    "    Returns:\n",
    "    --------\n",
    "    out = x**2\n",
    "    \n",
    "    Example:\n",
    "    >>> out = my_square_fn(4)\n",
    "    >>> out\n",
    "        16\n",
    "    '''\n",
    "    return x**2"
   ]
  },
  {
   "cell_type": "code",
   "execution_count": 5,
   "id": "5fd80b81-42f3-41fa-97a0-3a1f4bb07d20",
   "metadata": {
    "slideshow": {
     "slide_type": "subslide"
    }
   },
   "outputs": [
    {
     "data": {
      "text/plain": [
       "16"
      ]
     },
     "execution_count": 5,
     "metadata": {},
     "output_type": "execute_result"
    }
   ],
   "source": [
    "my_square_fn(4)"
   ]
  },
  {
   "cell_type": "code",
   "execution_count": 6,
   "id": "ff522b4f-77a2-493e-a4f0-0cf7c67b840a",
   "metadata": {
    "slideshow": {
     "slide_type": "fragment"
    }
   },
   "outputs": [],
   "source": [
    "my_square_fn?"
   ]
  },
  {
   "cell_type": "markdown",
   "id": "a6826b12-4cef-474a-a4b4-51f47e42d8d1",
   "metadata": {
    "slideshow": {
     "slide_type": "slide"
    },
    "tags": [],
    "user_expressions": []
   },
   "source": [
    "# Some useful functions in Python"
   ]
  },
  {
   "cell_type": "markdown",
   "id": "6048ecfd-c258-4b71-a4a4-e709ee37d7fc",
   "metadata": {
    "slideshow": {
     "slide_type": "subslide"
    },
    "tags": [],
    "user_expressions": []
   },
   "source": [
    "* `range(from, to, step)` creates a sequence of numbers from `from` to `to` increasing by `step`"
   ]
  },
  {
   "cell_type": "code",
   "execution_count": 7,
   "id": "00819892-82d8-4464-a798-7871516ec3ee",
   "metadata": {
    "slideshow": {
     "slide_type": "fragment"
    }
   },
   "outputs": [
    {
     "data": {
      "text/plain": [
       "[2, 5, 8, 11, 14, 17]"
      ]
     },
     "execution_count": 7,
     "metadata": {},
     "output_type": "execute_result"
    }
   ],
   "source": [
    "list(range(2, 20, 3))"
   ]
  },
  {
   "cell_type": "code",
   "execution_count": 8,
   "id": "52b6c707-c2f2-4a3e-9fe3-80cdd0d2a72a",
   "metadata": {
    "slideshow": {
     "slide_type": "fragment"
    }
   },
   "outputs": [
    {
     "data": {
      "text/plain": [
       "[0, 1, 2, 3, 4]"
      ]
     },
     "execution_count": 8,
     "metadata": {},
     "output_type": "execute_result"
    }
   ],
   "source": [
    "list(range(5))"
   ]
  },
  {
   "cell_type": "markdown",
   "id": "4937f60f-4d17-40fe-afdb-e6e196ebf5da",
   "metadata": {
    "slideshow": {
     "slide_type": "subslide"
    },
    "tags": [],
    "user_expressions": []
   },
   "source": [
    "* `print(string)` prints a string"
   ]
  },
  {
   "cell_type": "code",
   "execution_count": 9,
   "id": "f549b8b8-c7ec-4418-bdcf-f9f9551f5d32",
   "metadata": {
    "slideshow": {
     "slide_type": "fragment"
    }
   },
   "outputs": [
    {
     "name": "stdout",
     "output_type": "stream",
     "text": [
      "The square of 100 is 10000\n",
      "The square of 100 is 10000\n"
     ]
    }
   ],
   "source": [
    "print('The square of 100 is', my_square(100))\n",
    "print('The square of 100 is ' + str(my_square(100)))"
   ]
  },
  {
   "cell_type": "markdown",
   "id": "439d3935-336b-45fe-9631-c15ecb0cdc1e",
   "metadata": {
    "slideshow": {
     "slide_type": "subslide"
    },
    "tags": [],
    "user_expressions": []
   },
   "source": [
    "* `len(x)` returns the length of element `x`"
   ]
  },
  {
   "cell_type": "code",
   "execution_count": 10,
   "id": "33153265-d7e0-446c-b1d6-3cb14c2d2e8a",
   "metadata": {
    "slideshow": {
     "slide_type": "fragment"
    }
   },
   "outputs": [
    {
     "data": {
      "text/plain": [
       "100"
      ]
     },
     "execution_count": 10,
     "metadata": {},
     "output_type": "execute_result"
    }
   ],
   "source": [
    "len(range(100))"
   ]
  },
  {
   "cell_type": "code",
   "execution_count": 11,
   "id": "d9d31fdf-3d30-4146-94b7-9c2e03909657",
   "metadata": {
    "slideshow": {
     "slide_type": "fragment"
    }
   },
   "outputs": [
    {
     "data": {
      "text/plain": [
       "33"
      ]
     },
     "execution_count": 11,
     "metadata": {},
     "output_type": "execute_result"
    }
   ],
   "source": [
    "len('Some random string ndsyafsdasdwne')"
   ]
  },
  {
   "cell_type": "markdown",
   "id": "43dc9647-27ac-43c4-bcd0-3380ca29fe06",
   "metadata": {
    "slideshow": {
     "slide_type": "subslide"
    },
    "tags": [],
    "user_expressions": []
   },
   "source": [
    "* `type(x)` returns the type of `x`"
   ]
  },
  {
   "cell_type": "code",
   "execution_count": 12,
   "id": "f9ae945f-3d3a-42ff-8ff6-c57070b3a306",
   "metadata": {
    "slideshow": {
     "slide_type": "fragment"
    }
   },
   "outputs": [
    {
     "data": {
      "text/plain": [
       "str"
      ]
     },
     "execution_count": 12,
     "metadata": {},
     "output_type": "execute_result"
    }
   ],
   "source": [
    "type('hello')"
   ]
  },
  {
   "cell_type": "code",
   "execution_count": 13,
   "id": "e35a4a01-624e-4865-bc1a-6ed9421e0768",
   "metadata": {
    "slideshow": {
     "slide_type": "fragment"
    }
   },
   "outputs": [
    {
     "data": {
      "text/plain": [
       "float"
      ]
     },
     "execution_count": 13,
     "metadata": {},
     "output_type": "execute_result"
    }
   ],
   "source": [
    "type(3.1415)"
   ]
  },
  {
   "cell_type": "code",
   "execution_count": 14,
   "id": "9f079de8-df33-466b-a55d-beb96f43fdb3",
   "metadata": {
    "slideshow": {
     "slide_type": "fragment"
    }
   },
   "outputs": [
    {
     "data": {
      "text/plain": [
       "int"
      ]
     },
     "execution_count": 14,
     "metadata": {},
     "output_type": "execute_result"
    }
   ],
   "source": [
    "type(10)"
   ]
  },
  {
   "cell_type": "code",
   "execution_count": 15,
   "id": "15a7a8ab-8141-4f87-97fc-6db094ffbeab",
   "metadata": {
    "slideshow": {
     "slide_type": "fragment"
    }
   },
   "outputs": [
    {
     "data": {
      "text/plain": [
       "list"
      ]
     },
     "execution_count": 15,
     "metadata": {},
     "output_type": "execute_result"
    }
   ],
   "source": [
    "type([1, 'a', 3])"
   ]
  },
  {
   "cell_type": "markdown",
   "id": "177c2abc-d07a-4c88-bdd1-5b94e72e5337",
   "metadata": {
    "slideshow": {
     "slide_type": "slide"
    },
    "user_expressions": []
   },
   "source": [
    "## But what if Python does not have the function we need?"
   ]
  },
  {
   "cell_type": "markdown",
   "id": "7675af40-3eac-4db1-ae42-ab56e7e9d564",
   "metadata": {
    "slideshow": {
     "slide_type": "fragment"
    },
    "tags": [],
    "user_expressions": []
   },
   "source": [
    "## Do we need to write all the functions?"
   ]
  },
  {
   "cell_type": "markdown",
   "id": "f8d78b18-f3da-4a69-a44e-22c89bba5dcb",
   "metadata": {
    "slideshow": {
     "slide_type": "fragment"
    },
    "tags": [],
    "user_expressions": []
   },
   "source": [
    "## Luckily...No"
   ]
  },
  {
   "cell_type": "markdown",
   "id": "e51bea53-4d19-448e-8125-9807a803b5c1",
   "metadata": {
    "slideshow": {
     "slide_type": "slide"
    },
    "tags": [],
    "user_expressions": []
   },
   "source": [
    "# Extending Python's Functionality with Packages"
   ]
  },
  {
   "cell_type": "markdown",
   "id": "4bc0b4bd-9f93-407e-967d-f445d4f9461c",
   "metadata": {
    "slideshow": {
     "slide_type": "fragment"
    },
    "tags": [],
    "user_expressions": []
   },
   "source": [
    "One of the reasons people like Python is that there are lots of ready to use functions and solutions out there\n",
    "\n",
    "<center><img src=\"https://github.com/SMU-Econ-Growth/EconGrowthUG-Notebooks/blob/main/pics/X-files-truth-is-out-there.jpg?raw=true\" alt=\"X-files\" width=50%/></center>"
   ]
  },
  {
   "cell_type": "markdown",
   "id": "3b8538bc-fd25-4212-aa69-b5390dc4d2b4",
   "metadata": {
    "slideshow": {
     "slide_type": "subslide"
    },
    "user_expressions": []
   },
   "source": [
    "In order to use a package/module in Python or IPython, say `mypackage`, you need to import it, by executing\n",
    "```python\n",
    "import mypackage\n",
    "```"
   ]
  },
  {
   "cell_type": "markdown",
   "id": "074e410b-c942-44ca-aed4-b4ff33fd7630",
   "metadata": {
    "slideshow": {
     "slide_type": "fragment"
    },
    "user_expressions": []
   },
   "source": [
    "After executing this command, you will have access to the functions and objects defined in `mypackage`. \n",
    "For example, if `mypackage` has a function `squared` that takes a real number `x` and computes its square, \n",
    "we can use this function by calling `mypackage.squared(x)`. "
   ]
  },
  {
   "cell_type": "markdown",
   "id": "a1bb6c9d-fb7b-42d8-9df8-dd36650a9a97",
   "metadata": {
    "slideshow": {
     "slide_type": "subslide"
    },
    "tags": [],
    "user_expressions": []
   },
   "source": [
    "Since the name of some packages might be too long, your can give them a nickname by importing them instead as\n",
    "```python    \n",
    "import mypackage as myp\n",
    "```\n",
    "so now we could compute the square of `x` by calling `myp.squared(x)`."
   ]
  },
  {
   "cell_type": "markdown",
   "id": "da0a1aa0-d2aa-49de-8ec7-94e62237362a",
   "metadata": {
    "slideshow": {
     "slide_type": "fragment"
    },
    "tags": [],
    "user_expressions": []
   },
   "source": [
    "We will use various packages that will be useful to do computations, statistics, plots, data management, etc."
   ]
  },
  {
   "cell_type": "markdown",
   "id": "f8f381fd",
   "metadata": {
    "slideshow": {
     "slide_type": "slide"
    }
   },
   "source": [
    "# Managing the Operating System with os"
   ]
  },
  {
   "cell_type": "markdown",
   "id": "71a3ab7c",
   "metadata": {
    "slideshow": {
     "slide_type": "fragment"
    }
   },
   "source": [
    "[os](https://docs.python.org/3/library/os.html) is the fundamental module to interact with your computer's operating system."
   ]
  },
  {
   "cell_type": "markdown",
   "id": "296b0cf3",
   "metadata": {
    "slideshow": {
     "slide_type": "subslide"
    }
   },
   "source": [
    "With `os` you can:"
   ]
  },
  {
   "cell_type": "markdown",
   "id": "ec7049c8",
   "metadata": {
    "slideshow": {
     "slide_type": "fragment"
    }
   },
   "source": [
    "* Get environment variables"
   ]
  },
  {
   "cell_type": "markdown",
   "id": "1c6b3b66",
   "metadata": {
    "slideshow": {
     "slide_type": "fragment"
    }
   },
   "source": [
    "* Verify if a file or directory exists"
   ]
  },
  {
   "cell_type": "markdown",
   "id": "dd86c3fb",
   "metadata": {
    "slideshow": {
     "slide_type": "fragment"
    }
   },
   "source": [
    "* Change directories"
   ]
  },
  {
   "cell_type": "markdown",
   "id": "56182090",
   "metadata": {
    "slideshow": {
     "slide_type": "fragment"
    }
   },
   "source": [
    "* Create a file or directory"
   ]
  },
  {
   "cell_type": "markdown",
   "id": "d3878ce8",
   "metadata": {
    "slideshow": {
     "slide_type": "fragment"
    }
   },
   "source": [
    "* Delete files or directories"
   ]
  },
  {
   "cell_type": "code",
   "execution_count": 1,
   "id": "2ba43a98",
   "metadata": {
    "slideshow": {
     "slide_type": "subslide"
    }
   },
   "outputs": [],
   "source": [
    "import os"
   ]
  },
  {
   "cell_type": "markdown",
   "id": "d8b7b630",
   "metadata": {
    "slideshow": {
     "slide_type": "fragment"
    }
   },
   "source": [
    "### Get the home directory of current user"
   ]
  },
  {
   "cell_type": "code",
   "execution_count": 2,
   "id": "0a96c92c",
   "metadata": {
    "slideshow": {
     "slide_type": "-"
    }
   },
   "outputs": [
    {
     "data": {
      "text/plain": [
       "'/Users/ozak'"
      ]
     },
     "execution_count": 2,
     "metadata": {},
     "output_type": "execute_result"
    }
   ],
   "source": [
    "os.getenv('HOME')"
   ]
  },
  {
   "cell_type": "markdown",
   "id": "3b2237e0",
   "metadata": {
    "slideshow": {
     "slide_type": "subslide"
    }
   },
   "source": [
    "### Verify if `pics` directory exists"
   ]
  },
  {
   "cell_type": "code",
   "execution_count": 3,
   "id": "794fa641",
   "metadata": {
    "slideshow": {
     "slide_type": "-"
    }
   },
   "outputs": [
    {
     "data": {
      "text/plain": [
       "True"
      ]
     },
     "execution_count": 3,
     "metadata": {},
     "output_type": "execute_result"
    }
   ],
   "source": [
    "os.path.exists('pics')"
   ]
  },
  {
   "cell_type": "markdown",
   "id": "7c9360e5-168b-4218-be7e-bc2fcbe2f763",
   "metadata": {
    "slideshow": {
     "slide_type": "slide"
    },
    "tags": [],
    "user_expressions": []
   },
   "source": [
    "# Plots with \n",
    "<center><img src=\"https://raw.githubusercontent.com/SMU-Econ-Growth/EconGrowthUG-Notebooks/main/pics/matplotlib.svg\" alt=\"matplotlib\" width=25%/></center>"
   ]
  },
  {
   "cell_type": "markdown",
   "id": "409791a5-b70b-40b1-8cfb-b25875eae62e",
   "metadata": {
    "slideshow": {
     "slide_type": "fragment"
    },
    "tags": [],
    "user_expressions": []
   },
   "source": [
    "[Matplotlib](https://matplotlib.org/) is the fundamental package for plotting in Python. \n",
    "\n",
    "All other plotting packages are built on top of it and expand it.\n",
    "\n",
    "You can find examples of plots in their [Gallery](https://matplotlib.org/stable/gallery/index.html)."
   ]
  },
  {
   "cell_type": "markdown",
   "id": "502c990b-1189-46b1-8cbf-702cec718fe3",
   "metadata": {
    "slideshow": {
     "slide_type": "subslide"
    },
    "user_expressions": []
   },
   "source": [
    "It is the norm to import matplotlib and its pyplot component as follows (and I suggest you do the same):\n",
    "```python\n",
    "import matplotlib as mpl\n",
    "import matplotlib.pyplot as plt\n",
    "%matplotlib matlab_type\n",
    "```\n",
    "where `matlab_type` can be `inline` or `widget`. \n",
    "\n",
    "`widget` provides interactive plots, while `inline` generates static plots."
   ]
  },
  {
   "cell_type": "code",
   "execution_count": 4,
   "id": "e775db0c-a012-42ab-a348-919ce32e0460",
   "metadata": {
    "slideshow": {
     "slide_type": "fragment"
    }
   },
   "outputs": [],
   "source": [
    "import matplotlib as mpl\n",
    "import matplotlib.pyplot as plt\n",
    "%matplotlib widget"
   ]
  },
  {
   "cell_type": "markdown",
   "id": "5dbf1723-4aa8-4ff3-92d2-b1e5553cf9df",
   "metadata": {
    "slideshow": {
     "slide_type": "subslide"
    },
    "tags": [],
    "user_expressions": []
   },
   "source": [
    "Let's plot a line connecting a few points in a plot"
   ]
  },
  {
   "cell_type": "code",
   "execution_count": 5,
   "id": "d33f67c3-26a5-473a-8be3-0c9a20a03719",
   "metadata": {
    "slideshow": {
     "slide_type": "fragment"
    }
   },
   "outputs": [
    {
     "data": {
      "text/plain": [
       "<matplotlib.legend.Legend at 0x181ccb700>"
      ]
     },
     "execution_count": 5,
     "metadata": {},
     "output_type": "execute_result"
    },
    {
     "data": {
      "application/vnd.jupyter.widget-view+json": {
       "model_id": "ddaf0d36980f490faa9bc121ce887d78",
       "version_major": 2,
       "version_minor": 0
      },
      "image/png": "[encoded data removed]",
      "text/html": [
       "\n",
       "            <div style=\"display: inline-block;\">\n",
       "                <div class=\"jupyter-widgets widget-label\" style=\"text-align: center;\">\n",
       "                    Figure\n",
       "                </div>\n",
       "                <img src='data:image/png;base64,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' width=640.0/>\n",
       "            </div>\n",
       "        "
      ],
      "text/plain": [
       "Canvas(toolbar=Toolbar(toolitems=[('Home', 'Reset original view', 'home', 'home'), ('Back', 'Back to previous …"
      ]
     },
     "metadata": {},
     "output_type": "display_data"
    }
   ],
   "source": [
    "x = [0, 1, 2, 3]\n",
    "y = [0, 1, 4, 9]\n",
    "plt.plot(x, y, c='r', marker='o', linestyle=':', label=r'$y=x^2$')\n",
    "plt.legend()"
   ]
  },
  {
   "cell_type": "markdown",
   "id": "3f23bef1-942d-41f8-b273-13039bfff16e",
   "metadata": {
    "slideshow": {
     "slide_type": "subslide"
    },
    "user_expressions": []
   },
   "source": [
    "Let's plot various lines and points with different colors and styles, and add labels etc."
   ]
  },
  {
   "cell_type": "code",
   "execution_count": 6,
   "id": "f729e37d-2f03-4d11-90c4-d5251fac9e9f",
   "metadata": {
    "slideshow": {
     "slide_type": "fragment"
    }
   },
   "outputs": [],
   "source": [
    "x = [i/10 for i in range(0, 100)]\n",
    "y = [i**2 for i in x]\n",
    "z = [100 - 1/4 * i**2 + i for i in x]"
   ]
  },
  {
   "cell_type": "code",
   "execution_count": 7,
   "id": "4280695d-cc17-44c0-a941-162bd76a46be",
   "metadata": {
    "slideshow": {
     "slide_type": "subslide"
    }
   },
   "outputs": [
    {
     "data": {
      "application/vnd.jupyter.widget-view+json": {
       "model_id": "020091babd344ace8464d2e071d0102b",
       "version_major": 2,
       "version_minor": 0
      },
      "image/png": "[encoded data removed]",
      "text/html": [
       "\n",
       "            <div style=\"display: inline-block;\">\n",
       "                <div class=\"jupyter-widgets widget-label\" style=\"text-align: center;\">\n",
       "                    Figure\n",
       "                </div>\n",
       "                <img src='data:image/png;base64,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' width=800.0/>\n",
       "            </div>\n",
       "        "
      ],
      "text/plain": [
       "Canvas(toolbar=Toolbar(toolitems=[('Home', 'Reset original view', 'home', 'home'), ('Back', 'Back to previous …"
      ]
     },
     "metadata": {},
     "output_type": "display_data"
    }
   ],
   "source": [
    "fig, ax = plt.subplots(figsize=(8,5))\n",
    "ax.plot(x, y, c='r', marker='o', markersize=4, linestyle='-.', label=r'$y=x^2$')\n",
    "ax.plot(x, z, c='b', marker='D', markersize=4, linestyle='-', label=r'$y=100-\\frac{1}{4}x^2 + x$')\n",
    "ax.set_xlabel(r'$x$', fontsize=18)\n",
    "ax.set_ylabel(r'Value', fontsize=18)\n",
    "ax.set_title(r'Some Plots', fontsize=24)\n",
    "ax.legend(fontsize=18)\n",
    "plt.savefig('./pics/some-plots.png')\n",
    "plt.savefig('./pics/some-plots.pdf')"
   ]
  },
  {
   "cell_type": "markdown",
   "id": "8994817f-8ec2-412c-baa0-1724e85dc12b",
   "metadata": {
    "slideshow": {
     "slide_type": "slide"
    },
    "tags": [],
    "user_expressions": []
   },
   "source": [
    "# <center>Numerical Computations with NumPy</center>\n",
    "<center><img src=\"https://raw.githubusercontent.com/SMU-Econ-Growth/EconGrowthUG-Notebooks/main/pics/numpy.svg\" alt=\"NumPy\" width=10%/></center>"
   ]
  },
  {
   "cell_type": "markdown",
   "id": "84a13f1f-e844-4995-b533-ddac4794dc73",
   "metadata": {
    "slideshow": {
     "slide_type": "subslide"
    },
    "tags": [],
    "user_expressions": []
   },
   "source": [
    "[NumPy](https://numpy.org/) is one of the fundamental packages for scientific computing with Python.\n",
    "\n",
    "It provides many functions, objects, elements, etc. for doing all kinds of numerical computations, e.g.,\n",
    "* Constants: Euler, Pi\n",
    "* Matrices, vectors, arrays\n",
    "* Functions: Logarithms, roots, inverses\n",
    "* Random number generators\n",
    "* Optimization algorithms"
   ]
  },
  {
   "cell_type": "markdown",
   "id": "85a2b959-003b-470d-a718-76d9d63c66a6",
   "metadata": {
    "slideshow": {
     "slide_type": "subslide"
    },
    "tags": [],
    "user_expressions": []
   },
   "source": [
    "It is the norm to import NumPy as follows (and I suggest you do the same):\n",
    "```python\n",
    "import numpy as np\n",
    "```"
   ]
  },
  {
   "cell_type": "code",
   "execution_count": 20,
   "id": "b78e35ad-20b2-4b5b-9467-419fd3ca4327",
   "metadata": {
    "slideshow": {
     "slide_type": "fragment"
    }
   },
   "outputs": [],
   "source": [
    "import numpy as np"
   ]
  },
  {
   "cell_type": "markdown",
   "id": "63f0ebd1-64c0-4c84-bb9d-2e10608b71db",
   "metadata": {
    "slideshow": {
     "slide_type": "subslide"
    },
    "tags": [],
    "user_expressions": []
   },
   "source": [
    "Once it is imported we can start doing computations with it. \n",
    "\n",
    "The main type of object we will use is a NumPy array, which we create by\n",
    "```python\n",
    "my_array = np.array(list_of_numbers)\n",
    "```\n",
    "e.g.,"
   ]
  },
  {
   "cell_type": "code",
   "execution_count": 21,
   "id": "0b7e8bd4-8dd0-43fa-8368-e62d99a11a8e",
   "metadata": {
    "slideshow": {
     "slide_type": "subslide"
    }
   },
   "outputs": [],
   "source": [
    "c = [1, 2]\n",
    "d = [[1, 2], [3, 4]]\n",
    "ca = np.array(c)\n",
    "da = np.array(d) "
   ]
  },
  {
   "cell_type": "code",
   "execution_count": 22,
   "id": "05ec4d3f-8844-4655-bdf6-1785ada2ff8e",
   "metadata": {
    "slideshow": {
     "slide_type": "fragment"
    }
   },
   "outputs": [
    {
     "data": {
      "text/plain": [
       "array([1, 2])"
      ]
     },
     "execution_count": 22,
     "metadata": {},
     "output_type": "execute_result"
    }
   ],
   "source": [
    "ca"
   ]
  },
  {
   "cell_type": "code",
   "execution_count": 23,
   "id": "fc594fba-5e98-4344-9afd-8f3292a719dd",
   "metadata": {
    "slideshow": {
     "slide_type": "fragment"
    }
   },
   "outputs": [
    {
     "data": {
      "text/plain": [
       "array([[1, 2],\n",
       "       [3, 4]])"
      ]
     },
     "execution_count": 23,
     "metadata": {},
     "output_type": "execute_result"
    }
   ],
   "source": [
    "da"
   ]
  },
  {
   "cell_type": "markdown",
   "id": "21a004ea-bb09-4f7b-a08c-639970402993",
   "metadata": {
    "slideshow": {
     "slide_type": "subslide"
    },
    "user_expressions": []
   },
   "source": [
    "With our arrays we can easily perform computations on each element."
   ]
  },
  {
   "cell_type": "code",
   "execution_count": 24,
   "id": "7672a4f2-6a9a-4ee4-a26e-d27c60b9bc9a",
   "metadata": {
    "slideshow": {
     "slide_type": "fragment"
    }
   },
   "outputs": [
    {
     "data": {
      "text/plain": [
       "array([1, 4])"
      ]
     },
     "execution_count": 24,
     "metadata": {},
     "output_type": "execute_result"
    }
   ],
   "source": [
    "ca**2"
   ]
  },
  {
   "cell_type": "code",
   "execution_count": 25,
   "id": "20dc031c-b714-42d8-885f-04c5cc9a37e1",
   "metadata": {
    "slideshow": {
     "slide_type": "fragment"
    }
   },
   "outputs": [
    {
     "data": {
      "text/plain": [
       "array([[ 3,  6],\n",
       "       [ 9, 12]])"
      ]
     },
     "execution_count": 25,
     "metadata": {},
     "output_type": "execute_result"
    }
   ],
   "source": [
    "da * 3"
   ]
  },
  {
   "cell_type": "code",
   "execution_count": 26,
   "id": "f599a2ca-c891-4638-b6fd-056ddabb565c",
   "metadata": {
    "slideshow": {
     "slide_type": "fragment"
    }
   },
   "outputs": [
    {
     "data": {
      "text/plain": [
       "array([[1, 4],\n",
       "       [3, 8]])"
      ]
     },
     "execution_count": 26,
     "metadata": {},
     "output_type": "execute_result"
    }
   ],
   "source": [
    "ca*da"
   ]
  },
  {
   "cell_type": "markdown",
   "id": "935ce983-9d59-4d26-b683-4369a741ba62",
   "metadata": {
    "slideshow": {
     "slide_type": "subslide"
    },
    "tags": [],
    "user_expressions": []
   },
   "source": [
    "Arrays also have their own functions and properties"
   ]
  },
  {
   "cell_type": "code",
   "execution_count": 27,
   "id": "76579f1a-7160-46c2-b646-9b7f35e3b341",
   "metadata": {
    "slideshow": {
     "slide_type": "fragment"
    }
   },
   "outputs": [
    {
     "name": "stdout",
     "output_type": "stream",
     "text": [
      "(2,)\n",
      "(2, 2)\n"
     ]
    }
   ],
   "source": [
    "print(ca.shape)\n",
    "print(da.shape)"
   ]
  },
  {
   "cell_type": "code",
   "execution_count": 28,
   "id": "efbb7e0c-e949-4520-aafe-608853531e42",
   "metadata": {
    "slideshow": {
     "slide_type": "fragment"
    }
   },
   "outputs": [
    {
     "name": "stdout",
     "output_type": "stream",
     "text": [
      "da= [[1 2]\n",
      " [3 4]]\n",
      "Sum of all elements da.sum()= 10\n",
      "Sum of all elements in each column da.sum(axis=0)= [4 6]\n",
      "Sum of all elements in each row da.sum(axis=1)= [3 7]\n",
      "dot product is ca.dot(da)= [ 7 10]\n"
     ]
    }
   ],
   "source": [
    "print('da=', da)\n",
    "print('Sum of all elements da.sum()=', da.sum())\n",
    "print('Sum of all elements in each column da.sum(axis=0)=', da.sum(axis=0))\n",
    "print('Sum of all elements in each row da.sum(axis=1)=', da.sum(axis=1))\n",
    "print('dot product is ca.dot(da)=', ca.dot(da))"
   ]
  },
  {
   "cell_type": "markdown",
   "id": "9ca44bac-5234-4966-a761-c10107051272",
   "metadata": {
    "slideshow": {
     "slide_type": "subslide"
    },
    "user_expressions": []
   },
   "source": [
    "## We can create special arrays/matrices using Numpy's functions and classes"
   ]
  },
  {
   "cell_type": "code",
   "execution_count": 29,
   "id": "9e6068f6-bb11-414b-8cf4-e47552908dff",
   "metadata": {
    "slideshow": {
     "slide_type": "fragment"
    }
   },
   "outputs": [
    {
     "name": "stdout",
     "output_type": "stream",
     "text": [
      "[[1. 1. 1. 1.]\n",
      " [1. 1. 1. 1.]\n",
      " [1. 1. 1. 1.]]\n",
      "[[0. 0.]\n",
      " [0. 0.]]\n",
      "[[1. 0.]\n",
      " [0. 1.]]\n",
      "[1 1]\n"
     ]
    }
   ],
   "source": [
    "print(np.ones((3,4)))\n",
    "print(np.zeros((2,2)))\n",
    "print(np.eye(2))\n",
    "print(np.ones_like(ca))"
   ]
  },
  {
   "cell_type": "markdown",
   "id": "4d4e5111-5f5c-41c1-8e44-facfc02b8354",
   "metadata": {
    "slideshow": {
     "slide_type": "subslide"
    },
    "user_expressions": []
   },
   "source": [
    "## Random Numbers with `np.random`"
   ]
  },
  {
   "cell_type": "markdown",
   "id": "230b88a1-d657-466e-90e7-9130e509531b",
   "metadata": {
    "slideshow": {
     "slide_type": "fragment"
    },
    "user_expressions": []
   },
   "source": [
    "## Uniform distribution `np.random.uniform(low, high, size)`"
   ]
  },
  {
   "cell_type": "code",
   "execution_count": 30,
   "id": "bb3b2f57-a667-4d69-b3ff-745344f8e8b7",
   "metadata": {
    "slideshow": {
     "slide_type": "fragment"
    }
   },
   "outputs": [
    {
     "data": {
      "text/plain": [
       "array([ 0.5245444 ,  0.27846334, -0.66498699, -0.1939937 , -0.93754894,\n",
       "        0.22779131, -0.36964167,  0.45363171, -0.13547336, -0.2610241 ])"
      ]
     },
     "execution_count": 30,
     "metadata": {},
     "output_type": "execute_result"
    }
   ],
   "source": [
    "np.random.uniform(-1,1,10)"
   ]
  },
  {
   "cell_type": "markdown",
   "id": "39b256cc-6fca-4a0e-9cde-d56f921754df",
   "metadata": {
    "slideshow": {
     "slide_type": "subslide"
    },
    "tags": [],
    "user_expressions": []
   },
   "source": [
    "## Normal Distribution `np.random.normal(loc, scale, size)`"
   ]
  },
  {
   "cell_type": "code",
   "execution_count": 31,
   "id": "a7baaae9-562f-4cb8-9cb7-a55a8e79770f",
   "metadata": {
    "slideshow": {
     "slide_type": "fragment"
    }
   },
   "outputs": [
    {
     "data": {
      "text/plain": [
       "array([[11.28082098, 11.31177283,  9.21943062],\n",
       "       [11.12759727,  7.58426391, 11.95530439],\n",
       "       [10.01475147, 11.07452488,  8.95354308]])"
      ]
     },
     "execution_count": 31,
     "metadata": {},
     "output_type": "execute_result"
    }
   ],
   "source": [
    "np.random.normal(10, 1, size=(3,3))"
   ]
  },
  {
   "cell_type": "markdown",
   "id": "5cf1aa80",
   "metadata": {
    "slideshow": {
     "slide_type": "subslide"
    }
   },
   "source": [
    "# Example"
   ]
  },
  {
   "cell_type": "markdown",
   "id": "8771bc81-897d-4c8e-b5e8-4929a09f5740",
   "metadata": {
    "slideshow": {
     "slide_type": "fragment"
    },
    "tags": [],
    "user_expressions": []
   },
   "source": [
    "Let's create a simple random walk and plot it. A random walk is a variable $x_t$ that satisfies\n",
    "$$\n",
    "x_{t+1} = a_0 + x_t + \\varepsilon_t\n",
    "$$\n",
    "where $a_0$ is some real number, known as *drift*, and $\\varepsilon_t$ is a random variable that is Normally distributed with mean 0 and standard deviation $\\sigma^2$, i.e., \n",
    "$$\n",
    "\\varepsilon_t\\sim\\mathcal{N}(0,\\sigma^2).\n",
    "$$\n",
    "For simplicity, let's assume the drift $a_0=0$."
   ]
  },
  {
   "cell_type": "code",
   "execution_count": 32,
   "id": "425939c6-b70a-4107-92d8-6ce8404f9286",
   "metadata": {
    "slideshow": {
     "slide_type": "subslide"
    }
   },
   "outputs": [
    {
     "data": {
      "application/vnd.jupyter.widget-view+json": {
       "model_id": "bc1b760833da4699863eb9f1dce635dd",
       "version_major": 2,
       "version_minor": 0
      },
      "image/png": "[encoded data removed]",
      "text/html": [
       "\n",
       "            <div style=\"display: inline-block;\">\n",
       "                <div class=\"jupyter-widgets widget-label\" style=\"text-align: center;\">\n",
       "                    Figure\n",
       "                </div>\n",
       "                <img src='data:image/png;base64,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' width=800.0/>\n",
       "            </div>\n",
       "        "
      ],
      "text/plain": [
       "Canvas(toolbar=Toolbar(toolitems=[('Home', 'Reset original view', 'home', 'home'), ('Back', 'Back to previous …"
      ]
     },
     "metadata": {},
     "output_type": "display_data"
    }
   ],
   "source": [
    "#np.random.seed(123456)\n",
    "x0 = 0\n",
    "x = [x0]\n",
    "[x.append(x[-1] + np.random.normal() ) for i in range(500)]\n",
    "fig, ax = plt.subplots(figsize=(8,5))\n",
    "ax.plot(x)\n",
    "plt.title(r'A simple random walk', fontsize=24)\n",
    "plt.xlabel(r'Period $t$', fontsize=18)\n",
    "plt.ylabel(r'$x_t$', fontsize=18)\n",
    "plt.show()"
   ]
  },
  {
   "cell_type": "markdown",
   "id": "b8ab4165-cd93-4219-8871-cbe63f32689b",
   "metadata": {
    "slideshow": {
     "slide_type": "subslide"
    },
    "tags": [],
    "user_expressions": []
   },
   "source": [
    "<div class=\"alert alert-block alert-warning\">\n",
    "    <b>Exercise 1:</b> Write a function that computes the level of output generated by a constant returns to scale Cobb-Douglas production function, i.e., such that it computes $A\\cdot K^\\alpha \\cdot L^{1-\\alpha}$.\n",
    "</div>"
   ]
  },
  {
   "cell_type": "code",
   "execution_count": 33,
   "id": "433f1c07-9587-41b2-bc14-ec9c62a04782",
   "metadata": {
    "slideshow": {
     "slide_type": "-"
    }
   },
   "outputs": [],
   "source": [
    "def CobbDouglas(K=1, L=1, A=1, alpha=0.3):\n",
    "    '''\n",
    "    This function computes the level of output of a Cobb-Douglas production function.\n",
    "    Given values of K, L, A, and alpha it returns $A\\cdot K^\\alpha \\cdot L^{1-\\alpha}$.\n",
    "    Parameters:\n",
    "    -----------\n",
    "    K: float, integer or any other number, default=1\n",
    "    L: float, integer or any other number, default=1\n",
    "    A: float, integer or any other number, default=1\n",
    "    alpha: float between (0,1), default=0.3\n",
    "    \n",
    "    Returns:\n",
    "    --------\n",
    "    out = A * K**alpha * L**(1-alpha)\n",
    "    \n",
    "    Example:\n",
    "    >>> out = CobbDouglas(4, 9, 2, 1/2)\n",
    "    >>> out\n",
    "        12\n",
    "    '''"
   ]
  },
  {
   "cell_type": "markdown",
   "id": "4108e0e6-b085-4adc-b552-de60240d2af9",
   "metadata": {
    "slideshow": {
     "slide_type": "subslide"
    },
    "tags": [],
    "user_expressions": []
   },
   "source": [
    "<div class=\"alert alert-block alert-warning\">\n",
    "    <b>Exercise 2:</b> Use the function you created and plot the production function as a function of $K$ for given values of $A$ and $L$. <b>Hint:</b> Use the <code>np.linspace(0, 5, 100)</code> function to create an array of values of $K$ with 100 point between 0 and 5.\n",
    "</div>"
   ]
  },
  {
   "cell_type": "markdown",
   "id": "65fadbca-afa5-4032-acab-28834bb3e7b0",
   "metadata": {
    "slideshow": {
     "slide_type": "fragment"
    },
    "tags": [],
    "user_expressions": []
   },
   "source": [
    "<div class=\"alert alert-block alert-warning\">\n",
    "    <b>Exercise 3:</b> Show with a plot the effect of increasing $A$ from 1 to 2, 4, or 5.\n",
    "</div>"
   ]
  },
  {
   "cell_type": "markdown",
   "id": "ff03a853-9ecc-49c8-9b85-0a23cfe0d617",
   "metadata": {
    "slideshow": {
     "slide_type": "fragment"
    },
    "tags": [],
    "user_expressions": []
   },
   "source": [
    "<div class=\"alert alert-block alert-warning\">\n",
    "    <b>Exercise 4:</b> Show with a plot the effect of increasing $L$ from 1 to 2, 4, 5.\n",
    "</div>"
   ]
  },
  {
   "cell_type": "markdown",
   "id": "47d77009",
   "metadata": {
    "slideshow": {
     "slide_type": "fragment"
    },
    "tags": [],
    "user_expressions": []
   },
   "source": [
    "<div class=\"alert alert-block alert-warning\">\n",
    "    <b>Exercise 5:</b> Save the previous plots into <b>png, jpeg, and pdf</b> files.\n",
    "</div>"
   ]
  },
  {
   "cell_type": "markdown",
   "id": "7e069b15-d310-4a6f-909f-dc37469f76b7",
   "metadata": {
    "slideshow": {
     "slide_type": "slide"
    },
    "tags": [],
    "user_expressions": []
   },
   "source": [
    "Notebook written by [Ömer Özak](http://omerozak.com) for his students in Economics at [Southern Methodist University](http://www.smu.edu). Feel free to use, distribute, or contribute."
   ]
  },
  {
   "cell_type": "markdown",
   "id": "45b16c47-b621-4de7-bf4d-25e55e8c3509",
   "metadata": {
    "slideshow": {
     "slide_type": "-"
    },
    "tags": [],
    "user_expressions": []
   },
   "source": [
    "[<center><img src=\"https://github.com/measuring-culture/Expanding-Measurement-Culture-Facebook-JRSI/blob/main/pics/SMUlogowWordmarkRB.jpg?raw=true\" width=\"250\"></center>](http://omerozak.com)"
   ]
  }
 ],
 "metadata": {
  "celltoolbar": "Slideshow",
  "kernelspec": {
   "display_name": "Python 3 (ipykernel)",
   "language": "python",
   "name": "python3"
  },
  "language_info": {
   "codemirror_mode": {
    "name": "ipython",
    "version": 3
   },
   "file_extension": ".py",
   "mimetype": "text/x-python",
   "name": "python",
   "nbconvert_exporter": "python",
   "pygments_lexer": "ipython3",
   "version": "3.9.13"
  },
  "nbTranslate": {
   "displayLangs": [
    "*"
   ],
   "hotkey": "alt-t",
   "langInMainMenu": true,
   "sourceLang": "en",
   "targetLang": "fr",
   "useGoogleTranslate": true
  },
  "widgets": {
   "application/vnd.jupyter.widget-state+json": {
    "state": {},
    "version_major": 2,
    "version_minor": 0
   }
  }
 },
 "nbformat": 4,
 "nbformat_minor": 5
}
