{
 "cells": [
  {
   "cell_type": "markdown",
   "id": "9f2ec7a4",
   "metadata": {},
   "source": []
  },
  {
   "cell_type": "markdown",
   "id": "0cde1d77",
   "metadata": {},
   "source": [
    "# Noemi Meraz\n",
    "Passionate leader and communicator seeking to develop, innovate and change. "
   ]
  },
  {
   "cell_type": "markdown",
   "id": "d78c2f6c",
   "metadata": {},
   "source": [
    "### Experience \n",
    "\n",
    "**Pappadeaux** Seafood Kitchen, Oak Lawn - *Bartender*\n",
    "July 2018 - Present\n",
    "Ensuring a positive guest experience at a semi formal restaurant through providing hospitality and diligence. "
   ]
  },
  {
   "cell_type": "markdown",
   "id": "71a0167c",
   "metadata": {},
   "source": [
    "### Education \n",
    "\n",
    "**El Centro College**, Dallas TX - *Associates of Science* \n",
    "June 2017 - May 2017\n",
    " Displayed a notable job by excelling in every course until achieving an Associates of Science in less than the average time frame, demonstrated by my ability to graduate with a 3.3.6 GPA. "
   ]
  },
  {
   "cell_type": "markdown",
   "id": "4887a7c5",
   "metadata": {},
   "source": [
    " \n",
    "\n",
    "**Bachelor’s Degree** - *Southern Methodist* \n",
    "In current pursuit of a B.S. in Economics with Finance applications at Southern Methodist 2.University in Dallas, TX. \n",
    "\n",
    "## Skills "
   ]
  },
  {
   "cell_type": "markdown",
   "id": "5803d401-b68c-41e6-87fc-8479ade8783e",
   "metadata": {},
   "source": [
    "**Critical Thinker** \n",
    "1. Always embracing opportunities to learn and solve problems, independently and in  a group\n",
    "\n",
    "**Communicator** \n",
    "1. Always sharing knowledge and expressing questions in order to broaden my experiences 2. and overall awareness.\n",
    "\n",
    "**Proficient in Microsoft Office**\n",
    "1. Accomplished learner of the different programs in Microsoft Office including Powerpoint, 2.Word and Excel.\n",
    "\n",
    "**Languages** \n",
    "\n",
    "**English** - *Fluent*\n",
    "**Spanish** - *Fluent* "
   ]
  },
  {
   "cell_type": "code",
   "execution_count": null,
   "id": "79646917",
   "metadata": {},
   "outputs": [],
   "source": []
  }
 ],
 "metadata": {
  "kernelspec": {
   "display_name": "Python 3 (ipykernel)",
   "language": "python",
   "name": "python3"
  },
  "language_info": {
   "codemirror_mode": {
    "name": "ipython",
    "version": 3
   },
   "file_extension": ".py",
   "mimetype": "text/x-python",
   "name": "python",
   "nbconvert_exporter": "python",
   "pygments_lexer": "ipython3",
   "version": "3.9.13"
  }
 },
 "nbformat": 4,
 "nbformat_minor": 5
}
