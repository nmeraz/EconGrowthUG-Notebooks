{
 "cells": [
  {
   "cell_type": "markdown",
   "metadata": {},
   "source": [
    "# Economic Growth"
   ]
  },
  {
   "cell_type": "markdown",
   "metadata": {},
   "source": [
    "## Binder startup notebook"
   ]
  },
  {
   "cell_type": "markdown",
   "metadata": {
    "tags": [],
    "user_expressions": []
   },
   "source": [
    "From here you can open the other notebooks in this repository.\n",
    "\n",
    "# Notebooks\n",
    "\n",
    "* Notebook 1: [Introduction to Jupyter and Markdown](./Intro-Jupyter.ipynb)\n",
    "* Notebook 2: [Introduction to Python - Basic Elements](./Intro-Python.ipynb)\n",
    "* Notebook 3: [Introduction to Python II - Statements](./Intro-Python-Statements.ipynb)\n",
    "* Notebook 4: [Introduction to Python III - Functions and Packages](./Intro-Python-Functions-Packages.ipynb)\n",
    "* Notebook 5: [Introduction to Data Analysis with Pandas](./Intro-Data-Analysis-Pandas.ipynb)"
   ]
  }
 ],
 "metadata": {
  "kernelspec": {
   "display_name": "Python 3 (ipykernel)",
   "language": "python",
   "name": "python3"
  },
  "language_info": {
   "codemirror_mode": {
    "name": "ipython",
    "version": 3
   },
   "file_extension": ".py",
   "mimetype": "text/x-python",
   "name": "python",
   "nbconvert_exporter": "python",
   "pygments_lexer": "ipython3",
   "version": "3.9.13"
  },
  "nbTranslate": {
   "displayLangs": [
    "*"
   ],
   "hotkey": "alt-t",
   "langInMainMenu": true,
   "sourceLang": "en",
   "targetLang": "fr",
   "useGoogleTranslate": true
  },
  "widgets": {
   "application/vnd.jupyter.widget-state+json": {
    "state": {},
    "version_major": 2,
    "version_minor": 0
   }
  }
 },
 "nbformat": 4,
 "nbformat_minor": 4
}
